{
 "cells": [
  {
   "cell_type": "markdown",
   "id": "348ccb11",
   "metadata": {},
   "source": [
    "## Use a machine learning approach to obtain some insight into the relationship between recorded variables and the crash severity\n",
    "Let's create a machine learning model to categorize the likely crash severity given categorical and numerical variables.\n",
    "The purpose here is not predictive, but rather to gather insight.\n",
    "The strategy will be to create a predictive model based on a single Decision Tree Classifier, using a proportion of the available data to train, and the remainder to test / validate the model and estimate its accuracy.\n",
    "\n",
    "- Rules will be derived from the classifier to expose (approximately) what factors drive the severity. In the first instance, we would use all four possible severity levels as outcomes, i.e. 'Non-Injury Crash', 'Minor Crash', 'Fatal Crash', 'Serious Crash'.\n",
    "\n",
    "- It is possible that a multiclass classifier will prove inaccurate, and that an improvement could be obtained by forcing the  outcome to be binary, for example ('Fatal Crash' or 'Serious Crash') versus ('Non-Injury Crash', 'Minor Crash'), or some other combination.\n",
    "\n",
    "- We will assume that the presumed underlying relationship between explanatory variables and outcomes does not vary by region or year (this can be challenged)."
   ]
  },
  {
   "cell_type": "code",
   "execution_count": null,
   "id": "d8cc0f7c",
   "metadata": {},
   "outputs": [],
   "source": [
    "# Load required libraries\n",
    "# Load required libraries\n",
    "import pandas as pd\n",
    "import numpy as np\n",
    "import matplotlib as mpl\n",
    "import matplotlib.pyplot as plt\n",
    "import os\n",
    "import matplotlib.pyplot as plt\n",
    "import seaborn as sns\n",
    "from sklearn import preprocessing"
   ]
  },
  {
   "cell_type": "markdown",
   "id": "bbe9d684",
   "metadata": {},
   "source": [
    "### Load and preprocess the crash dataset"
   ]
  },
  {
   "cell_type": "code",
   "execution_count": null,
   "id": "3f4e08ad",
   "metadata": {},
   "outputs": [],
   "source": [
    "# Define working directories\n",
    "data_dir = \"../data\"\n",
    "output_dir = \"../outputs\"\n",
    "os.chdir(data_dir)\n",
    "#os.getcwd()"
   ]
  },
  {
   "cell_type": "code",
   "execution_count": null,
   "id": "4397ddf4",
   "metadata": {},
   "outputs": [],
   "source": [
    "# Load data\n",
    "df = pd.read_csv(\"Crash_Analysis_System_(CAS)_data.csv\")"
   ]
  },
  {
   "cell_type": "code",
   "execution_count": null,
   "id": "33773e45",
   "metadata": {},
   "outputs": [],
   "source": [
    "# Deal with nulls\n",
    "df['region'].fillna('Other',inplace=True)\n",
    "df['crashSHDescription'].fillna('Unknown',inplace=True)\n"
   ]
  }
 ],
 "metadata": {
  "kernelspec": {
   "display_name": "Python 3",
   "language": "python",
   "name": "python3"
  },
  "language_info": {
   "codemirror_mode": {
    "name": "ipython",
    "version": 3
   },
   "file_extension": ".py",
   "mimetype": "text/x-python",
   "name": "python",
   "nbconvert_exporter": "python",
   "pygments_lexer": "ipython3",
   "version": "3.8.8"
  }
 },
 "nbformat": 4,
 "nbformat_minor": 5
}
